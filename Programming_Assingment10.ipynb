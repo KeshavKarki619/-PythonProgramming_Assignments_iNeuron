{
 "cells": [
  {
   "cell_type": "markdown",
   "metadata": {},
   "source": [
    "1. Write a Python program to find sum of elements in list?\n"
   ]
  },
  {
   "cell_type": "code",
   "execution_count": 1,
   "metadata": {},
   "outputs": [],
   "source": [
    "def sum_of_elements(my_list):\n",
    "    return sum(my_list)"
   ]
  },
  {
   "cell_type": "code",
   "execution_count": 2,
   "metadata": {},
   "outputs": [
    {
     "name": "stdout",
     "output_type": "stream",
     "text": [
      "My list :  [1, 2, 3, 4]\n",
      "sum of elements in list 10\n"
     ]
    }
   ],
   "source": [
    "list_of_num =  [1,2,3,4]\n",
    "\n",
    "print(\"My list : \", list_of_num)\n",
    "print(\"sum of elements in list\", sum_of_elements(my_list=list_of_num))"
   ]
  },
  {
   "cell_type": "markdown",
   "metadata": {},
   "source": [
    "2. Write a Python program to Multiply all numbers in the list?"
   ]
  },
  {
   "cell_type": "code",
   "execution_count": 3,
   "metadata": {},
   "outputs": [],
   "source": [
    "def multiply_all(my_list):\n",
    "    mul_result = 1\n",
    "    for num in my_list:\n",
    "        mul_result = num*mul_result\n",
    "    \n",
    "    return mul_result"
   ]
  },
  {
   "cell_type": "code",
   "execution_count": 4,
   "metadata": {},
   "outputs": [
    {
     "name": "stdout",
     "output_type": "stream",
     "text": [
      "My list :  [1, 2, 3, 4]\n",
      "product of all  elements in list 24\n"
     ]
    }
   ],
   "source": [
    "list_of_num =  [1,2,3,4]\n",
    "\n",
    "print(\"My list : \", list_of_num)\n",
    "print(\"product of all  elements in list\", multiply_all(my_list=list_of_num))\n"
   ]
  },
  {
   "cell_type": "markdown",
   "metadata": {},
   "source": [
    "3. Write a Python program to find smallest number in a list"
   ]
  },
  {
   "cell_type": "code",
   "execution_count": 5,
   "metadata": {},
   "outputs": [],
   "source": [
    "def smallest_of(my_list):\n",
    "\n",
    "    return min(my_list)"
   ]
  },
  {
   "cell_type": "code",
   "execution_count": 6,
   "metadata": {},
   "outputs": [
    {
     "name": "stdout",
     "output_type": "stream",
     "text": [
      "My list :  [1, 2, 3, 4]\n",
      "smalles of all  elements in list 1\n"
     ]
    }
   ],
   "source": [
    "list_of_num =  [1,2,3,4]\n",
    "\n",
    "print(\"My list : \", list_of_num)\n",
    "print(\"smalles of all  elements in list\", smallest_of(my_list=list_of_num))"
   ]
  },
  {
   "cell_type": "markdown",
   "metadata": {},
   "source": [
    "4. Write a Python program to find largest number in a list?"
   ]
  },
  {
   "cell_type": "code",
   "execution_count": 8,
   "metadata": {},
   "outputs": [],
   "source": [
    "def largest_of(my_list):\n",
    "\n",
    "    return max(my_list)"
   ]
  },
  {
   "cell_type": "code",
   "execution_count": 9,
   "metadata": {},
   "outputs": [
    {
     "name": "stdout",
     "output_type": "stream",
     "text": [
      "My list :  [1, 2, 3, 4]\n",
      "largest of all  elements in list 4\n"
     ]
    }
   ],
   "source": [
    "list_of_num =  [1,2,3,4]\n",
    "\n",
    "print(\"My list : \", list_of_num)\n",
    "print(\"largest of all  elements in list\", largest_of(my_list=list_of_num))"
   ]
  },
  {
   "cell_type": "markdown",
   "metadata": {},
   "source": [
    "5. Write a Python program to find second largest number in a list?"
   ]
  },
  {
   "cell_type": "code",
   "execution_count": 24,
   "metadata": {},
   "outputs": [],
   "source": [
    "def second_largest(my_list):\n",
    "    largest = max(my_list)\n",
    "\n",
    "    while largest in my_list:\n",
    "        my_list.remove(largest)\n",
    "\n",
    "    result = max(my_list)\n",
    "    return result"
   ]
  },
  {
   "cell_type": "code",
   "execution_count": 27,
   "metadata": {},
   "outputs": [
    {
     "name": "stdout",
     "output_type": "stream",
     "text": [
      "My list :  [1, 2, 3, 4, 4, 3]\n",
      "second largest of all  elements in list 3\n"
     ]
    }
   ],
   "source": [
    "list_of_num =  [1,2,3,4,4,3]\n",
    "\n",
    "print(\"My list : \", list_of_num)\n",
    "print(\"second largest of all  elements in list\", second_largest(my_list=list_of_num))"
   ]
  },
  {
   "cell_type": "markdown",
   "metadata": {},
   "source": [
    "6. Write a Python program to find N largest elements from a list?"
   ]
  },
  {
   "cell_type": "code",
   "execution_count": 42,
   "metadata": {},
   "outputs": [
    {
     "name": "stdout",
     "output_type": "stream",
     "text": [
      "3 largest values from list : [1, 5, 4, 9, 7, 7, 2] are : [9, 7, 5]\n"
     ]
    }
   ],
   "source": [
    "def n_largest(L,n):\n",
    "    L = set(L)\n",
    "    L = list(L)\n",
    "    L.sort(reverse=True)\n",
    "    result = L[:n]\n",
    "\n",
    "    return result\n",
    "\n",
    "\n",
    "L = [1,5,4,9,7,7,2]\n",
    "\n",
    "n = int(input('Please enter how many largest value you want to check ?'))\n",
    "print(f\"{n} largest values from list : {L} are : {n_largest(L,n)}\")"
   ]
  },
  {
   "cell_type": "markdown",
   "metadata": {},
   "source": [
    "7. Write a Python program to print even numbers in a list?"
   ]
  },
  {
   "cell_type": "code",
   "execution_count": 44,
   "metadata": {},
   "outputs": [
    {
     "name": "stdout",
     "output_type": "stream",
     "text": [
      "Array: [1, 2, 3, 4, 5, 6, 7, 8, 9, 10]\n",
      "Even numbers: [2, 4, 6, 8, 10]\n"
     ]
    }
   ],
   "source": [
    "def print_even_numbers(arr):\n",
    "    even_numbers = [num for num in arr if num % 2 == 0]\n",
    "    print(\"Even numbers:\", even_numbers)\n",
    "\n",
    "array = [1, 2, 3, 4, 5, 6, 7, 8, 9, 10]\n",
    "print(\"Array:\", array)\n",
    "print_even_numbers(array)\n"
   ]
  },
  {
   "cell_type": "markdown",
   "metadata": {},
   "source": [
    "8. Write a Python program to print odd numbers in a list?"
   ]
  },
  {
   "cell_type": "code",
   "execution_count": 45,
   "metadata": {},
   "outputs": [
    {
     "name": "stdout",
     "output_type": "stream",
     "text": [
      "Array: [1, 2, 3, 4, 5, 6, 7, 8, 9, 10]\n",
      "Odd numbers: [1, 3, 5, 7, 9]\n"
     ]
    }
   ],
   "source": [
    "def print_odd_numbers(arr):\n",
    "    odd_numbers = [num for num in arr if num % 2 != 0]\n",
    "    print(\"Odd numbers:\", odd_numbers)\n",
    "\n",
    "# Example usage:\n",
    "array = [1, 2, 3, 4, 5, 6, 7, 8, 9, 10]\n",
    "print(\"Array:\", array)\n",
    "print_odd_numbers(array)\n"
   ]
  },
  {
   "cell_type": "markdown",
   "metadata": {},
   "source": [
    "9. Write a Python program to Remove empty List from List?"
   ]
  },
  {
   "cell_type": "code",
   "execution_count": 47,
   "metadata": {},
   "outputs": [
    {
     "name": "stdout",
     "output_type": "stream",
     "text": [
      "Original List: [[1, 2, 3], [], [4, 5], [], [6], []]\n",
      "List after removing empty lists: [[1, 2, 3], [4, 5], [6]]\n"
     ]
    }
   ],
   "source": [
    "def remove_empty_lists(lst):\n",
    "    return [sublist for sublist in lst if sublist]\n",
    "\n",
    "# Example usage:\n",
    "my_list = [[1, 2, 3], [], [4, 5], [], [6], []]\n",
    "print(\"Original List:\", my_list)\n",
    "filtered_list = remove_empty_lists(my_list)\n",
    "print(\"List after removing empty lists:\", filtered_list)\n"
   ]
  },
  {
   "cell_type": "markdown",
   "metadata": {},
   "source": [
    "10. Write a Python program to Cloning or Copying a list?"
   ]
  },
  {
   "cell_type": "code",
   "execution_count": 49,
   "metadata": {},
   "outputs": [
    {
     "name": "stdout",
     "output_type": "stream",
     "text": [
      "Original List: [1, 2, 5]\n",
      "Cloned List (using deepcopy()): [10, 2, 5]\n"
     ]
    }
   ],
   "source": [
    "import copy\n",
    "\n",
    "def clone_list(lst):\n",
    "    return copy.deepcopy(lst)\n",
    "\n",
    "original_list = [1, 2, 5]\n",
    "cloned_list = clone_list(original_list)\n",
    "\n",
    "# Modify the cloned list\n",
    "cloned_list[0] = 10\n",
    "\n",
    "\n",
    "print(\"Original List:\", original_list)\n",
    "print(\"Cloned List (using deepcopy()):\", cloned_list)\n"
   ]
  },
  {
   "cell_type": "markdown",
   "metadata": {},
   "source": [
    "11. Write a Python program to Count occurrences of an element in a list?"
   ]
  },
  {
   "cell_type": "code",
   "execution_count": 50,
   "metadata": {},
   "outputs": [
    {
     "name": "stdout",
     "output_type": "stream",
     "text": [
      "List: [1, 2, 3, 4, 1, 2, 1, 3, 1]\n",
      "Number of occurrences of 1: 4\n"
     ]
    }
   ],
   "source": [
    "def count_occurrences(lst, element):\n",
    "    return lst.count(element)\n",
    "\n",
    "my_list = [1, 2, 3, 4, 1, 2, 1, 3, 1]\n",
    "element_to_count = 1\n",
    "print(\"List:\", my_list)\n",
    "print(f\"Number of occurrences of {element_to_count}: {count_occurrences(my_list, element_to_count)}\")\n"
   ]
  }
 ],
 "metadata": {
  "kernelspec": {
   "display_name": "Python 3",
   "language": "python",
   "name": "python3"
  },
  "language_info": {
   "codemirror_mode": {
    "name": "ipython",
    "version": 3
   },
   "file_extension": ".py",
   "mimetype": "text/x-python",
   "name": "python",
   "nbconvert_exporter": "python",
   "pygments_lexer": "ipython3",
   "version": "3.11.7"
  }
 },
 "nbformat": 4,
 "nbformat_minor": 2
}
