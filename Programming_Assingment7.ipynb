{
 "cells": [
  {
   "cell_type": "markdown",
   "metadata": {},
   "source": [
    "1. Write a Python Program to find sum of array?"
   ]
  },
  {
   "cell_type": "code",
   "execution_count": 9,
   "metadata": {},
   "outputs": [],
   "source": [
    "def sum_of_array(arr):\n",
    "\n",
    "    \"\"\"\n",
    "    Calculate the sum of elements in an array.\n",
    "    \n",
    "    Parameters:\n",
    "        arr (list): List of integers or floats.\n",
    "        \n",
    "    Returns:\n",
    "        int or float: Sum of elements in the array.        \n",
    "    \"\"\"\n",
    "\n",
    "    return sum(arr)"
   ]
  },
  {
   "cell_type": "code",
   "execution_count": 10,
   "metadata": {},
   "outputs": [
    {
     "name": "stdout",
     "output_type": "stream",
     "text": [
      "Array: [1, 2, 3, 4, 5]\n",
      "Sum of array elements: 15\n"
     ]
    }
   ],
   "source": [
    "# Example usage:\n",
    "array = [1, 2, 3, 4, 5]\n",
    "print(\"Array:\", array)\n",
    "print(\"Sum of array elements:\", sum_of_array(array))"
   ]
  },
  {
   "cell_type": "markdown",
   "metadata": {},
   "source": [
    "2. Write a Python Program to find largest element in an array?"
   ]
  },
  {
   "cell_type": "code",
   "execution_count": 11,
   "metadata": {},
   "outputs": [],
   "source": [
    "\n",
    "def find_largest(arr):\n",
    "    \"\"\"\n",
    "    finds the largest elements inside array\n",
    "\n",
    "    Parameters:\n",
    "    arr : list of integers or floats\n",
    "\n",
    "    Returns:\n",
    "        int or float: largest elemnet  \n",
    "\n",
    "    \"\"\"\n",
    "\n",
    "    return max(arr)"
   ]
  },
  {
   "cell_type": "code",
   "execution_count": 13,
   "metadata": {},
   "outputs": [
    {
     "name": "stdout",
     "output_type": "stream",
     "text": [
      "My array : [1, 6, 7, 3, 4]\n",
      "largest number in my array : 7\n"
     ]
    }
   ],
   "source": [
    "my_arr = [1,6,7,3,4]\n",
    "\n",
    "print(f\"My array : {my_arr}\")\n",
    "print(f\"largest number in my array : {find_largest(my_arr)}\")"
   ]
  },
  {
   "cell_type": "markdown",
   "metadata": {},
   "source": [
    "3. Write a Python Program for array rotation?"
   ]
  },
  {
   "cell_type": "code",
   "execution_count": 14,
   "metadata": {},
   "outputs": [
    {
     "name": "stdout",
     "output_type": "stream",
     "text": [
      "Original Array: [1, 2, 3, 4, 5]\n",
      "Rotated Array: [4, 5, 1, 2, 3]\n"
     ]
    }
   ],
   "source": [
    "def rotate_array(arr, k):\n",
    "    \"\"\"\n",
    "    Rotate the elements of the array to the right by k steps.\n",
    "\n",
    "    Parameters:\n",
    "        arr (list): List of integers or floats.\n",
    "        k (int): Number of steps to rotate the array.\n",
    "\n",
    "    Returns:\n",
    "        list: Rotated array.\n",
    "    \"\"\"\n",
    "    n = len(arr)\n",
    "    # Calculate the effective rotation index\n",
    "    k = k % n\n",
    "    \n",
    "    # Rotate the array using slicing\n",
    "    rotated_arr = arr[-k:] + arr[:-k]\n",
    "    return rotated_arr\n",
    "\n",
    "# Example usage:\n",
    "array = [1, 2, 3, 4, 5]\n",
    "k = 2\n",
    "print(\"Original Array:\", array)\n",
    "print(\"Rotated Array:\", rotate_array(array, k))"
   ]
  },
  {
   "cell_type": "markdown",
   "metadata": {},
   "source": [
    "4. Write a Python Program to Split the array and add the first part to the end?"
   ]
  },
  {
   "cell_type": "code",
   "execution_count": 15,
   "metadata": {},
   "outputs": [
    {
     "name": "stdout",
     "output_type": "stream",
     "text": [
      "Original Array: [1, 2, 3, 4, 5]\n",
      "Split and Added Array: [3, 4, 5, 1, 2]\n"
     ]
    }
   ],
   "source": [
    "def split_and_add(arr, split_index):\n",
    "    \"\"\"\n",
    "    Split the array at the specified index and add the first part to the end.\n",
    "\n",
    "    Parameters:\n",
    "        arr (list): List of integers or floats.\n",
    "        split_index (int): Index at which to split the array.\n",
    "\n",
    "    Returns:\n",
    "        list: Modified array after splitting and adding.\n",
    "    \"\"\"\n",
    "    if split_index < 0 or split_index >= len(arr):\n",
    "        raise ValueError(\"Invalid split index\")\n",
    "\n",
    "    # Split the array and add the first part to the end\n",
    "    return arr[split_index:] + arr[:split_index]\n",
    "\n",
    "# Example usage:\n",
    "array = [1, 2, 3, 4, 5]\n",
    "split_index = 2\n",
    "print(\"Original Array:\", array)\n",
    "print(\"Split and Added Array:\", split_and_add(array, split_index))\n"
   ]
  },
  {
   "cell_type": "markdown",
   "metadata": {},
   "source": [
    "5. Write a Python Program to check if given array is Monotonic?"
   ]
  },
  {
   "cell_type": "code",
   "execution_count": 16,
   "metadata": {},
   "outputs": [
    {
     "name": "stdout",
     "output_type": "stream",
     "text": [
      "Array 1 is monotonic: True\n",
      "Array 2 is monotonic: True\n",
      "Array 3 is monotonic: True\n"
     ]
    }
   ],
   "source": [
    "def is_monotonic(arr):\n",
    "    \"\"\"\n",
    "    Check if the given array is monotonic.\n",
    "\n",
    "    Parameters:\n",
    "        arr (list): List of integers or floats.\n",
    "\n",
    "    Returns:\n",
    "        bool: True if the array is monotonic, False otherwise.\n",
    "    \"\"\"\n",
    "    increasing = decreasing = True\n",
    "\n",
    "    for i in range(1, len(arr)):\n",
    "        if arr[i] < arr[i - 1]:\n",
    "            increasing = False\n",
    "        if arr[i] > arr[i - 1]:\n",
    "            decreasing = False\n",
    "\n",
    "    return increasing or decreasing\n",
    "\n",
    "# Example usage:\n",
    "array1 = [1, 2, 3, 4, 5]\n",
    "array2 = [5, 4, 3, 2, 1]\n",
    "array3 = [1, 2, 2, 3, 4]\n",
    "\n",
    "print(\"Array 1 is monotonic:\", is_monotonic(array1))\n",
    "print(\"Array 2 is monotonic:\", is_monotonic(array2))\n",
    "print(\"Array 3 is monotonic:\", is_monotonic(array3))\n"
   ]
  }
 ],
 "metadata": {
  "kernelspec": {
   "display_name": "Python 3",
   "language": "python",
   "name": "python3"
  },
  "language_info": {
   "codemirror_mode": {
    "name": "ipython",
    "version": 3
   },
   "file_extension": ".py",
   "mimetype": "text/x-python",
   "name": "python",
   "nbconvert_exporter": "python",
   "pygments_lexer": "ipython3",
   "version": "3.11.7"
  }
 },
 "nbformat": 4,
 "nbformat_minor": 2
}
